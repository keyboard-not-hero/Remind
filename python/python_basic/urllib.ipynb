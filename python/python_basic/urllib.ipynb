{
 "cells": [
  {
   "cell_type": "code",
   "execution_count": 28,
   "id": "66c4edd0",
   "metadata": {},
   "outputs": [
    {
     "name": "stdout",
     "output_type": "stream",
     "text": [
      "200\n",
      "Date: Mon, 19 Sep 2022 16:48:33 GMT\n",
      "Content-Type: application/json\n",
      "Content-Length: 364\n",
      "Connection: close\n",
      "Server: gunicorn/19.9.0\n",
      "Access-Control-Allow-Origin: *\n",
      "Access-Control-Allow-Credentials: true\n",
      "\n",
      "\n",
      "{\n",
      "  \"args\": {}, \n",
      "  \"data\": \"\", \n",
      "  \"files\": {}, \n",
      "  \"form\": {}, \n",
      "  \"headers\": {\n",
      "    \"Accept-Encoding\": \"identity\", \n",
      "    \"Host\": \"httpbin.org\", \n",
      "    \"User-Agent\": \"Python-urllib/3.10\", \n",
      "    \"X-Amzn-Trace-Id\": \"Root=1-63289d61-39d6d20f7d49fc6478da00b8\"\n",
      "  }, \n",
      "  \"json\": null, \n",
      "  \"method\": \"GET\", \n",
      "  \"origin\": \"223.74.158.142\", \n",
      "  \"url\": \"http://httpbin.org/anything\"\n",
      "}\n",
      "\n"
     ]
    }
   ],
   "source": [
    "# 默认的user-agent: \"Python-urllib/3.10\"\n",
    "from urllib.request import Request, urlopen\n",
    "\n",
    "\n",
    "req = Request('http://httpbin.org/anything')\n",
    "with urlopen(req) as response:\n",
    "    status_code = response.status\n",
    "    header = response.headers\n",
    "    body = response.read().decode('utf-8')\n",
    "    print(status_code)\n",
    "    print(header)\n",
    "    print(body)"
   ]
  },
  {
   "cell_type": "code",
   "execution_count": 29,
   "id": "c6ec127e",
   "metadata": {},
   "outputs": [
    {
     "name": "stdout",
     "output_type": "stream",
     "text": [
      "200\n",
      "Date: Mon, 19 Sep 2022 16:48:37 GMT\n",
      "Content-Type: application/json\n",
      "Content-Length: 447\n",
      "Connection: close\n",
      "Server: gunicorn/19.9.0\n",
      "Access-Control-Allow-Origin: *\n",
      "Access-Control-Allow-Credentials: true\n",
      "\n",
      "\n",
      "{\n",
      "  \"args\": {}, \n",
      "  \"data\": \"\", \n",
      "  \"files\": {}, \n",
      "  \"form\": {}, \n",
      "  \"headers\": {\n",
      "    \"Accept-Encoding\": \"identity\", \n",
      "    \"Host\": \"httpbin.org\", \n",
      "    \"User-Agent\": \"Mozilla/5.0 (X11; Linux x86_64) AppleWebKit/537.36 (KHTML, like Gecko) Chrome/105.0.0.0 Safari/537.36\", \n",
      "    \"X-Amzn-Trace-Id\": \"Root=1-63289d65-6be8c98d7db61f3e20107fd8\"\n",
      "  }, \n",
      "  \"json\": null, \n",
      "  \"method\": \"GET\", \n",
      "  \"origin\": \"223.74.158.142\", \n",
      "  \"url\": \"http://httpbin.org/anything\"\n",
      "}\n",
      "\n"
     ]
    }
   ],
   "source": [
    "# 设定user-agent\n",
    "from urllib.request import Request, urlopen\n",
    "\n",
    "header = {\"User-Agent\":\"Mozilla/5.0 (X11; Linux x86_64) AppleWebKit/537.36 (KHTML, like Gecko) Chrome/105.0.0.0 Safari/537.36\"}\n",
    "req = Request('http://httpbin.org/anything', headers=header)\n",
    "with urlopen(req) as response:\n",
    "    status_code = response.status\n",
    "    header = response.headers\n",
    "    body = response.read().decode('utf-8')\n",
    "    print(status_code)\n",
    "    print(header)\n",
    "    print(body)"
   ]
  },
  {
   "cell_type": "code",
   "execution_count": 27,
   "id": "62454209",
   "metadata": {},
   "outputs": [
    {
     "name": "stdout",
     "output_type": "stream",
     "text": [
      "200\n",
      "Date: Mon, 19 Sep 2022 16:47:40 GMT\n",
      "Content-Type: application/json\n",
      "Content-Length: 448\n",
      "Connection: close\n",
      "Server: gunicorn/19.9.0\n",
      "Access-Control-Allow-Origin: *\n",
      "Access-Control-Allow-Credentials: true\n",
      "\n",
      "\n",
      "{\n",
      "  \"args\": {}, \n",
      "  \"data\": \"\", \n",
      "  \"files\": {}, \n",
      "  \"form\": {}, \n",
      "  \"headers\": {\n",
      "    \"Accept-Encoding\": \"identity\", \n",
      "    \"Host\": \"httpbin.org\", \n",
      "    \"User-Agent\": \"Mozilla/5.0 (X11; Linux x86_64) AppleWebKit/537.36 (KHTML, like Gecko) Chrome/105.0.0.0 Safari/537.36\", \n",
      "    \"X-Amzn-Trace-Id\": \"Root=1-63289d2c-6195f0f75b3b667362b6c162\"\n",
      "  }, \n",
      "  \"json\": null, \n",
      "  \"method\": \"GET\", \n",
      "  \"origin\": \"223.74.158.142\", \n",
      "  \"url\": \"https://httpbin.org/anything\"\n",
      "}\n",
      "\n"
     ]
    }
   ],
   "source": [
    "# ssl连接\n",
    "from urllib.request import Request, urlopen\n",
    "import ssl\n",
    "\n",
    "header = {\"User-Agent\":\"Mozilla/5.0 (X11; Linux x86_64) AppleWebKit/537.36 (KHTML, like Gecko) Chrome/105.0.0.0 Safari/537.36\"}\n",
    "context = ssl.create_default_context(capath='/etc/ssl/certs/')\n",
    "req = Request('https://httpbin.org/anything', headers=header)\n",
    "with urlopen(req, context=context) as response:\n",
    "    status_code = response.status\n",
    "    header = response.headers\n",
    "    body = response.read().decode('utf-8')\n",
    "    print(status_code)\n",
    "    print(header)\n",
    "    print(body)"
   ]
  },
  {
   "cell_type": "code",
   "execution_count": 3,
   "id": "2fef33e3",
   "metadata": {
    "scrolled": true
   },
   "outputs": [
    {
     "name": "stdout",
     "output_type": "stream",
     "text": [
      "200\n",
      "Date: Mon, 19 Sep 2022 17:35:46 GMT\n",
      "Content-Type: application/json\n",
      "Content-Length: 446\n",
      "Connection: close\n",
      "Server: gunicorn/19.9.0\n",
      "Access-Control-Allow-Origin: *\n",
      "Access-Control-Allow-Credentials: true\n",
      "\n",
      "\n",
      "{\n",
      "  \"args\": {}, \n",
      "  \"data\": \"\", \n",
      "  \"files\": {}, \n",
      "  \"form\": {}, \n",
      "  \"headers\": {\n",
      "    \"Accept-Encoding\": \"identity\", \n",
      "    \"Host\": \"httpbin.org\", \n",
      "    \"User-Agent\": \"Mozilla/5.0 (X11; Linux x86_64) AppleWebKit/537.36 (KHTML, like Gecko) Chrome/105.0.0.0 Safari/537.36\", \n",
      "    \"X-Amzn-Trace-Id\": \"Root=1-6328a872-6b9ffe994af97fdf5da68e20\"\n",
      "  }, \n",
      "  \"json\": null, \n",
      "  \"method\": \"GET\", \n",
      "  \"origin\": \"64.64.232.11\", \n",
      "  \"url\": \"https://httpbin.org/anything\"\n",
      "}\n",
      "\n"
     ]
    }
   ],
   "source": [
    "# proxy\n",
    "from urllib.request import Request, urlopen\n",
    "import ssl\n",
    "import socket, socks\n",
    "\n",
    "header = {\"User-Agent\":\"Mozilla/5.0 (X11; Linux x86_64) AppleWebKit/537.36 (KHTML, like Gecko) Chrome/105.0.0.0 Safari/537.36\"}\n",
    "context = ssl.create_default_context(capath='/etc/ssl/certs/')\n",
    "req = Request('https://httpbin.org/anything', headers=header)\n",
    "# 需额外安装pysocks[1]\n",
    "socks.set_default_proxy(socks.SOCKS5, \"127.0.0.1\", 1080)\n",
    "socket.socket = socks.socksocket\n",
    "with urlopen(req, context=context) as response:\n",
    "    status_code = response.status\n",
    "    header = response.headers\n",
    "    body = response.read().decode('utf-8')\n",
    "    print(status_code)\n",
    "    print(header)\n",
    "    print(body)"
   ]
  },
  {
   "cell_type": "code",
   "execution_count": null,
   "id": "c34d2d1c",
   "metadata": {},
   "outputs": [],
   "source": [
    "# 引用:\n",
    "# [1]pysocks doc: https://pypi.org/project/PySocks/"
   ]
  }
 ],
 "metadata": {
  "kernelspec": {
   "display_name": "Python 3 (ipykernel)",
   "language": "python",
   "name": "python3"
  },
  "language_info": {
   "codemirror_mode": {
    "name": "ipython",
    "version": 3
   },
   "file_extension": ".py",
   "mimetype": "text/x-python",
   "name": "python",
   "nbconvert_exporter": "python",
   "pygments_lexer": "ipython3",
   "version": "3.10.6"
  }
 },
 "nbformat": 4,
 "nbformat_minor": 5
}
