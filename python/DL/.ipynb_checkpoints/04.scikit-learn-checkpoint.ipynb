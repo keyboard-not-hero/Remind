{
 "cells": [
  {
   "cell_type": "markdown",
   "id": "e9278b5f",
   "metadata": {},
   "source": [
    "pip安装:\n",
    "\n",
    "    pip install scikit-learn\n",
    "\n",
    "导入:\n",
    "    \n",
    "    from sklearn.<model_name> import <algorithm_name>"
   ]
  },
  {
   "cell_type": "markdown",
   "id": "053a0e2d",
   "metadata": {},
   "source": [
    "Linear Regression模型:\n",
    "    $$Y=Xa + b$$\n",
    "    $$Min(y-Y)$$\n",
    "其中, a为coef_, b为intercept_"
   ]
  },
  {
   "cell_type": "code",
   "execution_count": 6,
   "id": "4ba900dd",
   "metadata": {},
   "outputs": [
    {
     "name": "stdout",
     "output_type": "stream",
     "text": [
      "[1. 2.]\n",
      "3.0000000000000018\n",
      "[17.]\n"
     ]
    }
   ],
   "source": [
    "# 线性回归\n",
    "from sklearn.linear_model import LinearRegression\n",
    "X = [[1, 1], [1, 2], [2, 2], [2, 3]]\n",
    "y = [6, 8, 9, 11]\n",
    "# 求出a与b\n",
    "reg = LinearRegression().fit(X, y)\n",
    "print(reg.coef_)\n",
    "print(reg.intercept_)\n",
    "\n",
    "# 根据x值进行y值预测\n",
    "res = reg.predict([[4,5]])\n",
    "print(res)"
   ]
  }
 ],
 "metadata": {
  "kernelspec": {
   "display_name": "Python 3 (ipykernel)",
   "language": "python",
   "name": "python3"
  },
  "language_info": {
   "codemirror_mode": {
    "name": "ipython",
    "version": 3
   },
   "file_extension": ".py",
   "mimetype": "text/x-python",
   "name": "python",
   "nbconvert_exporter": "python",
   "pygments_lexer": "ipython3",
   "version": "3.10.6"
  }
 },
 "nbformat": 4,
 "nbformat_minor": 5
}
