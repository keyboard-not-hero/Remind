{
 "cells": [
  {
   "cell_type": "raw",
   "id": "executed-termination",
   "metadata": {},
   "source": [
    "scipy -- 科学计算库\n",
    "\n",
    "安装\n",
    "pip install scipy\n",
    "\n",
    "导入\n",
    "from scipy import <mod_name>"
   ]
  },
  {
   "cell_type": "code",
   "execution_count": 1,
   "id": "disabled-bachelor",
   "metadata": {},
   "outputs": [
    {
     "name": "stdout",
     "output_type": "stream",
     "text": [
      "[[ 0  1  2  3]\n",
      " [ 4  5  6  7]\n",
      " [ 8  9 10 11]]\n",
      "[[ 0  4  8]\n",
      " [ 1  5  9]\n",
      " [ 2  6 10]\n",
      " [ 3  7 11]]\n",
      "-2.0\n",
      "[[-2.   1. ]\n",
      " [ 1.5 -0.5]]\n"
     ]
    }
   ],
   "source": [
    "# 例1. 转置矩阵、矩阵的行列式、矩阵的逆\n",
    "import numpy as np\n",
    "from scipy import linalg\n",
    "\n",
    "# 转置矩阵\n",
    "a = np.arange(12).reshape(3,4)\n",
    "print(a)\n",
    "print(a.T)\n",
    "\n",
    "# 行列式\n",
    "b = [[1, 2], [3, 4]]\n",
    "print(linalg.det(b))\n",
    "\n",
    "# 矩阵的逆\n",
    "print(linalg.inv(b))"
   ]
  },
  {
   "cell_type": "code",
   "execution_count": 2,
   "id": "comic-photography",
   "metadata": {},
   "outputs": [
    {
     "name": "stdout",
     "output_type": "stream",
     "text": [
      "[[0. 0. 0. 1.]\n",
      " [0. 1. 0. 0.]\n",
      " [0. 0. 1. 0.]\n",
      " [1. 0. 0. 0.]]\n",
      "[[ 1.          0.          0.          0.        ]\n",
      " [ 0.66666667  1.          0.          0.        ]\n",
      " [-0.33333333  1.          1.          0.        ]\n",
      " [-0.33333333 -0.8        -0.13333333  1.        ]]\n",
      "[[-6.          0.         -3.          1.        ]\n",
      " [ 0.         -5.         -6.          0.33333333]\n",
      " [ 0.          0.          6.          8.        ]\n",
      " [ 0.          0.          0.         -0.33333333]]\n"
     ]
    }
   ],
   "source": [
    "# 例2. PLU分解\n",
    "from scipy import linalg\n",
    "\n",
    "A = [[2, 4, 5, -2], [-4, -5, -8, 1], [2, -5, 1, 8], [-6, 0, -3, 1]]\n",
    "P, L, U = linalg.lu(A)\n",
    "print(P)\n",
    "print(L)\n",
    "print(U)"
   ]
  },
  {
   "cell_type": "code",
   "execution_count": 3,
   "id": "single-transcript",
   "metadata": {},
   "outputs": [
    {
     "name": "stdout",
     "output_type": "stream",
     "text": [
      "(208.0, 2.3092638912203256e-12)\n"
     ]
    }
   ],
   "source": [
    "# 例3.求积分\n",
    "from scipy import integrate\n",
    "import math\n",
    "\n",
    "def exp_inte(x, a):\n",
    "    return a*math.pow(x,2)\n",
    "\n",
    "print(integrate.quad(exp_inte,2,6,args=(3,)))"
   ]
  },
  {
   "cell_type": "raw",
   "id": "individual-summit",
   "metadata": {},
   "source": [
    "scipy.linalg模块\n",
    "method:\n",
    "det(a, overwrite_a=False, check_finite=True)\n",
    "    矩阵a的行列式结果. 参数列表如下:\n",
    "        a - array_like, MxM方形矩阵\n",
    "        check - bool格式, 是否检查数组中仅包含有限大小数字\n",
    "\n",
    "inv(a, overwrite_a=False, check_finite=True)\n",
    "    矩阵a的逆矩阵. 参数列表如下:\n",
    "        a - array_like, MxM方形矩阵\n",
    "        check - bool格式, 是否检查数组中仅包含有限大小数字\n",
    "        \n",
    "lu(a, permute_l=False, overwrite_a=False, check_finite=True) --> (P,L,U)或(PL,U)\n",
    "    PLU分解. 参数列表如下:\n",
    "        a - array_like, (M,N)矩阵\n",
    "        permute_l - bool格式, 是否执行P*L操作\n",
    "        check_finite - bool格式, 是否检查元素是否全是有限数字\n",
    "\n",
    "solve(a, b, sym_pos=False, lower=False, overwrite_a=False, overwrite_b=False, debug=None, check_finite=True, assume_a='gen', transposed=False)\n",
    "    计算线性方程组ax=b的解. 参数列表如下:\n",
    "        a - array_like, MxM方形矩阵\n",
    "        b - array_like, Mx1矩阵\n",
    "        sym_pos - deprecated\n",
    "        check_finite - bool格式, 是否检查数组中仅包含有限大小数字\n",
    "        assume_a - str格式, 指定数组a的矩阵类型. 列表如下:\n",
    "            gen - generic, 普通矩阵\n",
    "            sym - symmetric, 对称矩阵. 矩阵关于主对角线成对称\n",
    "            her - hermitian, 共轭(转置)矩阵. 共轭矩阵与原矩阵实数部分相同, 虚数取反. 共轭转置矩阵, 为原矩阵转置后共轭\n",
    "            pos - position definite, 正定矩阵\n",
    "        transposed - bool格式, 为True时, 实数矩阵执行a^Tx=b计算\n",
    "\n",
    "\n",
    "scipy.integrate模块\n",
    "method:\n",
    "quad(func, a, b, args=(), full_output=0, epsabs=1.49e-08, epsrel=1.49e-08, limit=50, points=None, weight=None, wvar=None, wopts=None, maxp1=50, limlst=50) --> tuple\n",
    "    求积分. 参数列表如下:\n",
    "        func - callable格式, 使用func返回的方程, 求积分\n",
    "        a - float格式, 积分下限. -np.inf代表负无穷大\n",
    "        b - float格式, 积分上限. np.inf代表无穷大\n",
    "        args - tuple格式, 传递给func的参数\n",
    "        full_output - int格式, 非0数代表将info的dict格式信息添加到tuple格式的第三个item中. 即(result, absolute_error, error_dict)"
   ]
  },
  {
   "cell_type": "raw",
   "id": "statutory-counter",
   "metadata": {},
   "source": [
    "引用:\n",
    "[1]offical website:\n",
    "    https://scipy.org/"
   ]
  }
 ],
 "metadata": {
  "kernelspec": {
   "display_name": "Python 3",
   "language": "python",
   "name": "python3"
  },
  "language_info": {
   "codemirror_mode": {
    "name": "ipython",
    "version": 3
   },
   "file_extension": ".py",
   "mimetype": "text/x-python",
   "name": "python",
   "nbconvert_exporter": "python",
   "pygments_lexer": "ipython3",
   "version": "3.8.7"
  }
 },
 "nbformat": 4,
 "nbformat_minor": 5
}
