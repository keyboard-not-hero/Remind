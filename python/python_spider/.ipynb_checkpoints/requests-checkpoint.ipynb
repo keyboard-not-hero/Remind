{
 "cells": [
  {
   "cell_type": "code",
   "execution_count": 1,
   "id": "7d31e776",
   "metadata": {},
   "outputs": [],
   "source": [
    "# pip安装\n",
    "# pip install requests\n",
    "\n",
    "# 导入\n",
    "# import requests"
   ]
  },
  {
   "cell_type": "code",
   "execution_count": 7,
   "id": "caffac33",
   "metadata": {
    "scrolled": true
   },
   "outputs": [
    {
     "name": "stdout",
     "output_type": "stream",
     "text": [
      "200\n",
      "{'Date': 'Wed, 21 Sep 2022 01:28:48 GMT', 'Content-Type': 'application/json', 'Content-Length': '395', 'Connection': 'keep-alive', 'Server': 'gunicorn/19.9.0', 'Access-Control-Allow-Origin': '*', 'Access-Control-Allow-Credentials': 'true'}\n",
      "b'{\\n  \"args\": {}, \\n  \"data\": \"\", \\n  \"files\": {}, \\n  \"form\": {}, \\n  \"headers\": {\\n    \"Accept\": \"*/*\", \\n    \"Accept-Encoding\": \"gzip, deflate\", \\n    \"Host\": \"httpbin.org\", \\n    \"User-Agent\": \"python-requests/2.28.1\", \\n    \"X-Amzn-Trace-Id\": \"Root=1-632a68d0-26e1c1aa7cab128a5a8d860e\"\\n  }, \\n  \"json\": null, \\n  \"method\": \"GET\", \\n  \"origin\": \"120.229.19.121\", \\n  \"url\": \"http://httpbin.org/anything\"\\n}\\n'\n",
      "{\n",
      "  \"args\": {}, \n",
      "  \"data\": \"\", \n",
      "  \"files\": {}, \n",
      "  \"form\": {}, \n",
      "  \"headers\": {\n",
      "    \"Accept\": \"*/*\", \n",
      "    \"Accept-Encoding\": \"gzip, deflate\", \n",
      "    \"Host\": \"httpbin.org\", \n",
      "    \"User-Agent\": \"python-requests/2.28.1\", \n",
      "    \"X-Amzn-Trace-Id\": \"Root=1-632a68d0-26e1c1aa7cab128a5a8d860e\"\n",
      "  }, \n",
      "  \"json\": null, \n",
      "  \"method\": \"GET\", \n",
      "  \"origin\": \"120.229.19.121\", \n",
      "  \"url\": \"http://httpbin.org/anything\"\n",
      "}\n",
      "\n"
     ]
    }
   ],
   "source": [
    "# 查看默认信息\n",
    "import requests\n",
    "\n",
    "response = requests.request('GET', 'http://httpbin.org/anything')\n",
    "print(response.status_code)\n",
    "print(response.headers)\n",
    "print(response.content)\n",
    "response.encoding = 'UTF-8'\n",
    "print(response.text)"
   ]
  },
  {
   "cell_type": "code",
   "execution_count": 8,
   "id": "f2efffd9",
   "metadata": {},
   "outputs": [
    {
     "name": "stdout",
     "output_type": "stream",
     "text": [
      "200\n",
      "{'Date': 'Wed, 21 Sep 2022 01:31:07 GMT', 'Content-Type': 'application/json', 'Content-Length': '474', 'Connection': 'keep-alive', 'Server': 'gunicorn/19.9.0', 'Access-Control-Allow-Origin': '*', 'Access-Control-Allow-Credentials': 'true'}\n",
      "b'{\\n  \"args\": {}, \\n  \"data\": \"\", \\n  \"files\": {}, \\n  \"form\": {}, \\n  \"headers\": {\\n    \"Accept\": \"*/*\", \\n    \"Accept-Encoding\": \"gzip, deflate\", \\n    \"Host\": \"httpbin.org\", \\n    \"User-Agent\": \"Mozilla/5.0 (X11; Linux x86_64) AppleWebKit/537.36 (KHTML, like Gecko) Chrome/105.0.0.0 Safari/537.36\", \\n    \"X-Amzn-Trace-Id\": \"Root=1-632a695b-2cd01486516dd24770445b94\"\\n  }, \\n  \"json\": null, \\n  \"method\": \"GET\", \\n  \"origin\": \"120.229.19.121\", \\n  \"url\": \"http://httpbin.org/anything\"\\n}\\n'\n",
      "{\n",
      "  \"args\": {}, \n",
      "  \"data\": \"\", \n",
      "  \"files\": {}, \n",
      "  \"form\": {}, \n",
      "  \"headers\": {\n",
      "    \"Accept\": \"*/*\", \n",
      "    \"Accept-Encoding\": \"gzip, deflate\", \n",
      "    \"Host\": \"httpbin.org\", \n",
      "    \"User-Agent\": \"Mozilla/5.0 (X11; Linux x86_64) AppleWebKit/537.36 (KHTML, like Gecko) Chrome/105.0.0.0 Safari/537.36\", \n",
      "    \"X-Amzn-Trace-Id\": \"Root=1-632a695b-2cd01486516dd24770445b94\"\n",
      "  }, \n",
      "  \"json\": null, \n",
      "  \"method\": \"GET\", \n",
      "  \"origin\": \"120.229.19.121\", \n",
      "  \"url\": \"http://httpbin.org/anything\"\n",
      "}\n",
      "\n"
     ]
    }
   ],
   "source": [
    "# 设定user-agent\n",
    "import requests\n",
    "\n",
    "header = {\"User-Agent\":\"Mozilla/5.0 (X11; Linux x86_64) AppleWebKit/537.36 (KHTML, like Gecko) Chrome/105.0.0.0 Safari/537.36\"}\n",
    "response = requests.request('GET', 'http://httpbin.org/anything', headers = header)\n",
    "print(response.status_code)\n",
    "print(response.headers)\n",
    "print(response.content)\n",
    "response.encoding = 'UTF-8'\n",
    "print(response.text)"
   ]
  },
  {
   "cell_type": "code",
   "execution_count": 13,
   "id": "3af75e5f",
   "metadata": {},
   "outputs": [
    {
     "name": "stdout",
     "output_type": "stream",
     "text": [
      "200\n",
      "{'Date': 'Wed, 21 Sep 2022 02:18:19 GMT', 'Content-Type': 'application/json', 'Content-Length': '475', 'Connection': 'keep-alive', 'Server': 'gunicorn/19.9.0', 'Access-Control-Allow-Origin': '*', 'Access-Control-Allow-Credentials': 'true'}\n",
      "b'{\\n  \"args\": {}, \\n  \"data\": \"\", \\n  \"files\": {}, \\n  \"form\": {}, \\n  \"headers\": {\\n    \"Accept\": \"*/*\", \\n    \"Accept-Encoding\": \"gzip, deflate\", \\n    \"Host\": \"httpbin.org\", \\n    \"User-Agent\": \"Mozilla/5.0 (X11; Linux x86_64) AppleWebKit/537.36 (KHTML, like Gecko) Chrome/105.0.0.0 Safari/537.36\", \\n    \"X-Amzn-Trace-Id\": \"Root=1-632a746b-1705dc1b72ebf1274fc3c518\"\\n  }, \\n  \"json\": null, \\n  \"method\": \"GET\", \\n  \"origin\": \"120.229.19.121\", \\n  \"url\": \"https://httpbin.org/anything\"\\n}\\n'\n",
      "{\n",
      "  \"args\": {}, \n",
      "  \"data\": \"\", \n",
      "  \"files\": {}, \n",
      "  \"form\": {}, \n",
      "  \"headers\": {\n",
      "    \"Accept\": \"*/*\", \n",
      "    \"Accept-Encoding\": \"gzip, deflate\", \n",
      "    \"Host\": \"httpbin.org\", \n",
      "    \"User-Agent\": \"Mozilla/5.0 (X11; Linux x86_64) AppleWebKit/537.36 (KHTML, like Gecko) Chrome/105.0.0.0 Safari/537.36\", \n",
      "    \"X-Amzn-Trace-Id\": \"Root=1-632a746b-1705dc1b72ebf1274fc3c518\"\n",
      "  }, \n",
      "  \"json\": null, \n",
      "  \"method\": \"GET\", \n",
      "  \"origin\": \"120.229.19.121\", \n",
      "  \"url\": \"https://httpbin.org/anything\"\n",
      "}\n",
      "\n"
     ]
    }
   ],
   "source": [
    "# ssl连接\n",
    "import requests\n",
    "\n",
    "header = {\"User-Agent\":\"Mozilla/5.0 (X11; Linux x86_64) AppleWebKit/537.36 (KHTML, like Gecko) Chrome/105.0.0.0 Safari/537.36\"}\n",
    "proxy = {}\n",
    "response = requests.request('GET', 'https://httpbin.org/anything', headers = header, verify=True)\n",
    "print(response.status_code)\n",
    "print(response.headers)\n",
    "print(response.content)\n",
    "response.encoding = 'UTF-8'\n",
    "print(response.text)"
   ]
  },
  {
   "cell_type": "code",
   "execution_count": 19,
   "id": "4a47531e",
   "metadata": {
    "scrolled": true
   },
   "outputs": [
    {
     "name": "stdout",
     "output_type": "stream",
     "text": [
      "200\n",
      "{'Date': 'Wed, 21 Sep 2022 02:48:09 GMT', 'Content-Type': 'application/json', 'Content-Length': '473', 'Connection': 'keep-alive', 'Server': 'gunicorn/19.9.0', 'Access-Control-Allow-Origin': '*', 'Access-Control-Allow-Credentials': 'true'}\n",
      "b'{\\n  \"args\": {}, \\n  \"data\": \"\", \\n  \"files\": {}, \\n  \"form\": {}, \\n  \"headers\": {\\n    \"Accept\": \"*/*\", \\n    \"Accept-Encoding\": \"gzip, deflate\", \\n    \"Host\": \"httpbin.org\", \\n    \"User-Agent\": \"Mozilla/5.0 (X11; Linux x86_64) AppleWebKit/537.36 (KHTML, like Gecko) Chrome/105.0.0.0 Safari/537.36\", \\n    \"X-Amzn-Trace-Id\": \"Root=1-632a7b69-7c6c32f720642e774b1c24db\"\\n  }, \\n  \"json\": null, \\n  \"method\": \"GET\", \\n  \"origin\": \"64.64.232.11\", \\n  \"url\": \"https://httpbin.org/anything\"\\n}\\n'\n",
      "{\n",
      "  \"args\": {}, \n",
      "  \"data\": \"\", \n",
      "  \"files\": {}, \n",
      "  \"form\": {}, \n",
      "  \"headers\": {\n",
      "    \"Accept\": \"*/*\", \n",
      "    \"Accept-Encoding\": \"gzip, deflate\", \n",
      "    \"Host\": \"httpbin.org\", \n",
      "    \"User-Agent\": \"Mozilla/5.0 (X11; Linux x86_64) AppleWebKit/537.36 (KHTML, like Gecko) Chrome/105.0.0.0 Safari/537.36\", \n",
      "    \"X-Amzn-Trace-Id\": \"Root=1-632a7b69-7c6c32f720642e774b1c24db\"\n",
      "  }, \n",
      "  \"json\": null, \n",
      "  \"method\": \"GET\", \n",
      "  \"origin\": \"64.64.232.11\", \n",
      "  \"url\": \"https://httpbin.org/anything\"\n",
      "}\n",
      "\n"
     ]
    }
   ],
   "source": [
    "# http代理\n",
    "import requests\n",
    "\n",
    "header = {\"User-Agent\":\"Mozilla/5.0 (X11; Linux x86_64) AppleWebKit/537.36 (KHTML, like Gecko) Chrome/105.0.0.0 Safari/537.36\"}\n",
    "proxy = {'http': 'http://127.0.0.1:1080', 'https': 'http://127.0.0.1:1080'}\n",
    "response = requests.request('GET', 'https://httpbin.org/anything', headers = header, proxies = proxy)\n",
    "print(response.status_code)\n",
    "print(response.headers)\n",
    "print(response.content)\n",
    "response.encoding = 'UTF-8'\n",
    "print(response.text)"
   ]
  },
  {
   "cell_type": "code",
   "execution_count": 17,
   "id": "d063fb22",
   "metadata": {},
   "outputs": [
    {
     "name": "stdout",
     "output_type": "stream",
     "text": [
      "200\n",
      "{'Date': 'Wed, 21 Sep 2022 02:45:45 GMT', 'Content-Type': 'application/json', 'Content-Length': '473', 'Connection': 'keep-alive', 'Server': 'gunicorn/19.9.0', 'Access-Control-Allow-Origin': '*', 'Access-Control-Allow-Credentials': 'true'}\n",
      "b'{\\n  \"args\": {}, \\n  \"data\": \"\", \\n  \"files\": {}, \\n  \"form\": {}, \\n  \"headers\": {\\n    \"Accept\": \"*/*\", \\n    \"Accept-Encoding\": \"gzip, deflate\", \\n    \"Host\": \"httpbin.org\", \\n    \"User-Agent\": \"Mozilla/5.0 (X11; Linux x86_64) AppleWebKit/537.36 (KHTML, like Gecko) Chrome/105.0.0.0 Safari/537.36\", \\n    \"X-Amzn-Trace-Id\": \"Root=1-632a7ad9-21987416519c67fd6513a73a\"\\n  }, \\n  \"json\": null, \\n  \"method\": \"GET\", \\n  \"origin\": \"64.64.232.11\", \\n  \"url\": \"https://httpbin.org/anything\"\\n}\\n'\n",
      "{\n",
      "  \"args\": {}, \n",
      "  \"data\": \"\", \n",
      "  \"files\": {}, \n",
      "  \"form\": {}, \n",
      "  \"headers\": {\n",
      "    \"Accept\": \"*/*\", \n",
      "    \"Accept-Encoding\": \"gzip, deflate\", \n",
      "    \"Host\": \"httpbin.org\", \n",
      "    \"User-Agent\": \"Mozilla/5.0 (X11; Linux x86_64) AppleWebKit/537.36 (KHTML, like Gecko) Chrome/105.0.0.0 Safari/537.36\", \n",
      "    \"X-Amzn-Trace-Id\": \"Root=1-632a7ad9-21987416519c67fd6513a73a\"\n",
      "  }, \n",
      "  \"json\": null, \n",
      "  \"method\": \"GET\", \n",
      "  \"origin\": \"64.64.232.11\", \n",
      "  \"url\": \"https://httpbin.org/anything\"\n",
      "}\n",
      "\n"
     ]
    }
   ],
   "source": [
    "# socks5代理(需要requests[socks]库的支持)\n",
    "import requests\n",
    "\n",
    "header = {\"User-Agent\":\"Mozilla/5.0 (X11; Linux x86_64) AppleWebKit/537.36 (KHTML, like Gecko) Chrome/105.0.0.0 Safari/537.36\"}\n",
    "# http针对http请求使用代理, https针对https请求使用代理\n",
    "proxy = {'http': 'socks5://127.0.0.1:1080', 'https': 'socks5://127.0.0.1:1080'}\n",
    "response = requests.request('GET', 'https://httpbin.org/anything', headers = header, proxies = proxy)\n",
    "print(response.status_code)\n",
    "print(response.headers)\n",
    "print(response.content)\n",
    "response.encoding = 'UTF-8'\n",
    "print(response.text)"
   ]
  },
  {
   "cell_type": "code",
   "execution_count": 40,
   "id": "56e78245",
   "metadata": {},
   "outputs": [
    {
     "name": "stdout",
     "output_type": "stream",
     "text": [
      "download complete!!\n"
     ]
    }
   ],
   "source": [
    "# 下载tar文件\n",
    "import requests, tarfile\n",
    "\n",
    "url = \"https://raw.githubusercontent.com/ageron/handson-ml/master/datasets/housing/\"\n",
    "file = \"housing.tgz\"\n",
    "proxy = {'http': 'socks5://127.0.0.1:1080', 'https': 'socks5://127.0.0.1:1080'}\n",
    "chunk_size = 1024 * 16\n",
    "with requests.request('GET', url + file, proxies = proxy, stream=True) as response:\n",
    "    with open(file, 'wb') as down_file:\n",
    "        # iter_content生成generator\n",
    "        for chunk in response.iter_content(chunk_size):\n",
    "            down_file.write(chunk)\n",
    "\n",
    "tgz_file = tarfile.open(file)\n",
    "tgz_file.extractall()\n",
    "tgz_file.close()\n",
    "print(\"download complete!!\")"
   ]
  },
  {
   "cell_type": "code",
   "execution_count": null,
   "id": "662478f2",
   "metadata": {},
   "outputs": [],
   "source": [
    "# request模块\n",
    "# requests.request(method, url, **kwargs) -- Response\n",
    "#     发送请求. 参数列表如下:\n",
    "#         method - str类型, 请求方法\n",
    "#         url - str类型, 请求地址\n",
    "#         kwargs列表:\n",
    "#             params - dict/list of tuples类型, 附加在url后的请求参数\n",
    "#             data - dict/list of tuples/bytes/file-like类型, 发送的主体内容\n",
    "#             json - json类型, 发送的json格式主体内容\n",
    "#             headers - dict类型, 发送的请求header\n",
    "#             cookies - dict/CookieJar类型, 发送的cookies内容\n",
    "#             files - dict类型, 使用文件的内容作为主体内容. 格式列表如下:\n",
    "#                 {'name': file_like_object}\n",
    "#                 {'name': file_tuple}\n",
    "#                 file_tuple列表如下:\n",
    "#                     ('file_name', file_object)\n",
    "#                     ('file_name', file_object, 'content_type')\n",
    "#                     ('file_name', file_object, 'content_type', custom_header_dict)\n",
    "#             timeout - float类型, 指定等待服务器响应时间, 单位为s. 默认没有限制\n",
    "#             allow_redirects - bool类型, 是否允许重定向. 默认为True\n",
    "#             proxies - dict类型, 代理内容\n",
    "#             verify - bool/str类型, 是否验证服务器证书, True使用certifi库的CA, str可指定CA路径. 默认为True\n",
    "#             stream - bool类型, 当为False, 所有response内容一次性全部下载. 默认为False"
   ]
  },
  {
   "cell_type": "code",
   "execution_count": null,
   "id": "054749fb",
   "metadata": {},
   "outputs": [],
   "source": [
    "# request.Response类\n",
    "# status_code\n",
    "#     响应的状态码\n",
    "\n",
    "# headers\n",
    "#    响应的header\n",
    "\n",
    "# encoding\n",
    "#     解码使用的编码类型(可手动指定)\n",
    "\n",
    "# content\n",
    "#     编码内容\n",
    "\n",
    "# text\n",
    "#     解码内容, 根据encoding规则进行解码\n",
    "\n",
    "# iter_content(chunk_size=1, decode_unicode=False) --> generator\n",
    "#     下载的编码内容进行切片. 参数列表如下:\n",
    "#         chunk_size - int类型, 指定切片的大小, 单位为bytes\n",
    "#         decode_unicode - bool类型, 是否将内容进行解码, 根据encoding规则进行解码\n",
    "# ** 建议request使用stream = True"
   ]
  },
  {
   "cell_type": "code",
   "execution_count": null,
   "id": "d440d82c",
   "metadata": {},
   "outputs": [],
   "source": [
    "# 最后编辑于: 2022-09-21"
   ]
  },
  {
   "cell_type": "code",
   "execution_count": null,
   "id": "504ed5ff",
   "metadata": {},
   "outputs": [],
   "source": [
    "# 引用:\n",
    "# [1] requests doc: https://requests.readthedocs.io/en/latest/"
   ]
  }
 ],
 "metadata": {
  "kernelspec": {
   "display_name": "Python 3 (ipykernel)",
   "language": "python",
   "name": "python3"
  },
  "language_info": {
   "codemirror_mode": {
    "name": "ipython",
    "version": 3
   },
   "file_extension": ".py",
   "mimetype": "text/x-python",
   "name": "python",
   "nbconvert_exporter": "python",
   "pygments_lexer": "ipython3",
   "version": "3.10.6"
  }
 },
 "nbformat": 4,
 "nbformat_minor": 5
}
