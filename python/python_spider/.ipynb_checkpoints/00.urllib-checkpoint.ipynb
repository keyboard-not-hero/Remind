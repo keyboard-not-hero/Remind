{
 "cells": [
  {
   "cell_type": "code",
   "execution_count": 1,
   "id": "7cfe0b0c",
   "metadata": {},
   "outputs": [
    {
     "name": "stdout",
     "output_type": "stream",
     "text": [
      "200\n",
      "Date: Tue, 20 Sep 2022 15:10:53 GMT\n",
      "Content-Type: application/json\n",
      "Content-Length: 364\n",
      "Connection: close\n",
      "Server: gunicorn/19.9.0\n",
      "Access-Control-Allow-Origin: *\n",
      "Access-Control-Allow-Credentials: true\n",
      "\n",
      "\n",
      "{\n",
      "  \"args\": {}, \n",
      "  \"data\": \"\", \n",
      "  \"files\": {}, \n",
      "  \"form\": {}, \n",
      "  \"headers\": {\n",
      "    \"Accept-Encoding\": \"identity\", \n",
      "    \"Host\": \"httpbin.org\", \n",
      "    \"User-Agent\": \"Python-urllib/3.10\", \n",
      "    \"X-Amzn-Trace-Id\": \"Root=1-6329d7fd-017a78d7453ca5cc5b85f287\"\n",
      "  }, \n",
      "  \"json\": null, \n",
      "  \"method\": \"GET\", \n",
      "  \"origin\": \"120.229.19.121\", \n",
      "  \"url\": \"http://httpbin.org/anything\"\n",
      "}\n",
      "\n"
     ]
    }
   ],
   "source": [
    "# 查看默认的信息. 如: user-agent: \"Python-urllib/3.10\"\n",
    "from urllib.request import Request, urlopen\n",
    "\n",
    "\n",
    "req = Request('http://httpbin.org/anything')\n",
    "with urlopen(req) as response:\n",
    "    status_code = response.status\n",
    "    header = response.headers\n",
    "    body = response.read().decode('utf-8')\n",
    "    print(status_code)\n",
    "    print(header)\n",
    "    print(body)"
   ]
  },
  {
   "cell_type": "code",
   "execution_count": 2,
   "id": "a663f17a",
   "metadata": {},
   "outputs": [
    {
     "name": "stdout",
     "output_type": "stream",
     "text": [
      "200\n",
      "Date: Tue, 20 Sep 2022 15:10:56 GMT\n",
      "Content-Type: application/json\n",
      "Content-Length: 447\n",
      "Connection: close\n",
      "Server: gunicorn/19.9.0\n",
      "Access-Control-Allow-Origin: *\n",
      "Access-Control-Allow-Credentials: true\n",
      "\n",
      "\n",
      "{\n",
      "  \"args\": {}, \n",
      "  \"data\": \"\", \n",
      "  \"files\": {}, \n",
      "  \"form\": {}, \n",
      "  \"headers\": {\n",
      "    \"Accept-Encoding\": \"identity\", \n",
      "    \"Host\": \"httpbin.org\", \n",
      "    \"User-Agent\": \"Mozilla/5.0 (X11; Linux x86_64) AppleWebKit/537.36 (KHTML, like Gecko) Chrome/105.0.0.0 Safari/537.36\", \n",
      "    \"X-Amzn-Trace-Id\": \"Root=1-6329d800-796103482b17ea7348135082\"\n",
      "  }, \n",
      "  \"json\": null, \n",
      "  \"method\": \"GET\", \n",
      "  \"origin\": \"120.229.19.121\", \n",
      "  \"url\": \"http://httpbin.org/anything\"\n",
      "}\n",
      "\n"
     ]
    }
   ],
   "source": [
    "# 设定user-agent\n",
    "from urllib.request import Request, urlopen\n",
    "\n",
    "header = {\"User-Agent\":\"Mozilla/5.0 (X11; Linux x86_64) AppleWebKit/537.36 (KHTML, like Gecko) Chrome/105.0.0.0 Safari/537.36\"}\n",
    "req = Request('http://httpbin.org/anything', headers=header)\n",
    "with urlopen(req) as response:\n",
    "    status_code = response.status\n",
    "    header = response.headers\n",
    "    body = response.read().decode('utf-8')\n",
    "    print(status_code)\n",
    "    print(header)\n",
    "    print(body)"
   ]
  },
  {
   "cell_type": "code",
   "execution_count": 3,
   "id": "fb8e5d09",
   "metadata": {},
   "outputs": [
    {
     "name": "stdout",
     "output_type": "stream",
     "text": [
      "200\n",
      "Date: Tue, 20 Sep 2022 15:11:00 GMT\n",
      "Content-Type: application/json\n",
      "Content-Length: 448\n",
      "Connection: close\n",
      "Server: gunicorn/19.9.0\n",
      "Access-Control-Allow-Origin: *\n",
      "Access-Control-Allow-Credentials: true\n",
      "\n",
      "\n",
      "{\n",
      "  \"args\": {}, \n",
      "  \"data\": \"\", \n",
      "  \"files\": {}, \n",
      "  \"form\": {}, \n",
      "  \"headers\": {\n",
      "    \"Accept-Encoding\": \"identity\", \n",
      "    \"Host\": \"httpbin.org\", \n",
      "    \"User-Agent\": \"Mozilla/5.0 (X11; Linux x86_64) AppleWebKit/537.36 (KHTML, like Gecko) Chrome/105.0.0.0 Safari/537.36\", \n",
      "    \"X-Amzn-Trace-Id\": \"Root=1-6329d804-588aeb8b0e9be18c52acc0a2\"\n",
      "  }, \n",
      "  \"json\": null, \n",
      "  \"method\": \"GET\", \n",
      "  \"origin\": \"120.229.19.121\", \n",
      "  \"url\": \"https://httpbin.org/anything\"\n",
      "}\n",
      "\n"
     ]
    }
   ],
   "source": [
    "# ssl连接\n",
    "from urllib.request import Request, urlopen\n",
    "import ssl\n",
    "\n",
    "header = {\"User-Agent\":\"Mozilla/5.0 (X11; Linux x86_64) AppleWebKit/537.36 (KHTML, like Gecko) Chrome/105.0.0.0 Safari/537.36\"}\n",
    "context = ssl.create_default_context(capath='/etc/ssl/certs/')\n",
    "req = Request('https://httpbin.org/anything', headers=header)\n",
    "with urlopen(req, context=context) as response:\n",
    "    status_code = response.status\n",
    "    header = response.headers\n",
    "    body = response.read().decode('utf-8')\n",
    "    print(status_code)\n",
    "    print(header)\n",
    "    print(body)"
   ]
  },
  {
   "cell_type": "code",
   "execution_count": null,
   "id": "24e6e9e3",
   "metadata": {},
   "outputs": [],
   "source": [
    "# socks5 proxy\n",
    "from urllib.request import Request, urlopen\n",
    "import ssl\n",
    "import socket, socks\n",
    "\n",
    "header = {\"User-Agent\":\"Mozilla/5.0 (X11; Linux x86_64) AppleWebKit/537.36 (KHTML, like Gecko) Chrome/105.0.0.0 Safari/537.36\"}\n",
    "context = ssl.create_default_context(capath='/etc/ssl/certs/')\n",
    "req = Request('https://httpbin.org/anything', headers=header)\n",
    "# 需额外安装pysocks[1]\n",
    "socks.set_default_proxy(socks.SOCKS5, \"127.0.0.1\", 1080)\n",
    "socket.socket = socks.socksocket\n",
    "with urlopen(req, context=context) as response:\n",
    "    status_code = response.status\n",
    "    header = response.headers\n",
    "    body = response.read().decode('utf-8')\n",
    "    print(status_code)\n",
    "    print(header)\n",
    "    print(body)"
   ]
  },
  {
   "cell_type": "code",
   "execution_count": null,
   "id": "28b8d9ed",
   "metadata": {},
   "outputs": [],
   "source": [
    "# 下载tar文件\n",
    "from urllib.request import urlopen, Request\n",
    "import ssl\n",
    "import socket, socks\n",
    "import tarfile\n",
    "\n",
    "url = \"https://raw.githubusercontent.com/ageron/handson-ml/master/datasets/housing/\"\n",
    "file = \"housing.tgz\"\n",
    "chunk_size = 1024 * 64\n",
    "socks.set_default_proxy(socks.SOCKS5, \"127.0.0.1\", 1080)\n",
    "socket.socket = socks.socksocket\n",
    "context = ssl.create_default_context(capath=\"/etc/ssl/certs\")\n",
    "with urlopen(url+file, context=context) as response:\n",
    "    with open(file, 'wb') as down_file:\n",
    "        while chunk := response.read(chunk_size):\n",
    "            down_file.write(chunk)\n",
    "\n",
    "tgz_file = tarfile.open(file)\n",
    "tgz_file.extractall()\n",
    "tgz_file.close()\n",
    "print(\"download complete!!\")"
   ]
  },
  {
   "cell_type": "code",
   "execution_count": null,
   "id": "0bb5a874",
   "metadata": {},
   "outputs": [],
   "source": [
    "# 最后编辑于: 2022-09-20"
   ]
  },
  {
   "cell_type": "code",
   "execution_count": null,
   "id": "3241aa53",
   "metadata": {},
   "outputs": [],
   "source": [
    "# 引用:\n",
    "# [1]pysocks doc: https://pypi.org/project/PySocks/"
   ]
  }
 ],
 "metadata": {
  "kernelspec": {
   "display_name": "Python 3 (ipykernel)",
   "language": "python",
   "name": "python3"
  },
  "language_info": {
   "codemirror_mode": {
    "name": "ipython",
    "version": 3
   },
   "file_extension": ".py",
   "mimetype": "text/x-python",
   "name": "python",
   "nbconvert_exporter": "python",
   "pygments_lexer": "ipython3",
   "version": "3.10.6"
  }
 },
 "nbformat": 4,
 "nbformat_minor": 5
}
